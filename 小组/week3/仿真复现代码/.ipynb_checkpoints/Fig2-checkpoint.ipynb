{
 "cells": [
  {
   "cell_type": "code",
   "execution_count": 3,
   "metadata": {},
   "outputs": [],
   "source": [
    "import numpy as np\n",
    "import matplotlib.pyplot as plt\n",
    "\n",
    "# 设置参数\n",
    "L = 50 # 数轴上的区间长度\n",
    "num_agents = 5000 * L # agent的数量\n",
    "\"\"\"\n",
    "将智能体的初始opinions均匀分布到 数轴[0, L]上。\n",
    "注： if the initial opinions are chosen at random, with a uniform distribution.也就是说如果随机选择初始opinions，那么这些opinions应该是均匀分布的。\n",
    "\"\"\"\n",
    "initial_opinions = np.linspace(0, L, num_agents) # 智能体的初始opinions\n",
    "convergence_threshold = 1e-3  # 收敛阈值\n",
    "max_iterations = 1000 # 最大迭代次数\n",
    "threshold = 0.5 # opinions更新的阈值\n",
    "\n",
    "opinions = initial_opinions\n",
    "\n",
    "# 先定义一个函数，找出距离小于1的智能体\n",
    "def find_neighbours(agent, opinions):\n",
    "    return np.abs(opinions - agent) < 1\n",
    "\n",
    "# 再定义一个函数, 更新智能体的opinions\n",
    "def update_opinions(opinions, threshold):\n",
    "    new_opinions = np.copy(opinions) # 复制一份opinions\n",
    "    for i in range(len(opinions)): # 遍历每一个智能体\n",
    "        neighbours = find_neighbours(opinions[i], opinions) # 调用find_neighbours找出距离小于1的智能体\n",
    "        # 选出与当前智能体距离小于1的智能体的opinions差值在阈值内的智能体\n",
    "        mark = np.abs(opinions - opinions[i]) < threshold \n",
    "        # 更新opinions\n",
    "        new_opinions[i] = np.mean(opinions[mark]) # 更新opinions\n",
    "    return new_opinions # 返回更新后的opinions    \n",
    "\n",
    "# 运行仿真\n",
    "for _ in range(max_iterations): # ( _ 表示不关心的变量，只是为了循环最多max_iterations次)\n",
    "    new_opinions = update_opinions(opinions, threshold) # 更新opinions\n",
    "    \"\"\"\n",
    "    np.all 说明： 测试所有元素是否为True，如果是，则返回True，否则返回False\n",
    "    \"\"\"\n",
    "    if np.all(np.abs(new_opinions - opinions) < convergence_threshold): # 如果opinions收敛\n",
    "        break # 跳出循环\n",
    "    opinions = new_opinions # 更新opinions  \n",
    "\n",
    "# 画图\n",
    "plt.plot(np.arange(len(opinions)), np.abs(opinions - L/2), 'b.', markersize=1)\n",
    "plt.axhline(y=0, color='k', linestyle='dashed')\n",
    "plt.axhline(y=L, color='k', linestyle='dashed')\n",
    "plt.xlabel('Agent index')\n",
    "plt.ylabel('Distance from L/2')\n",
    "plt.title('Locations of Agents at Equilibrium')\n",
    "plt.show()\n",
    "\n",
    "\n",
    "\n",
    "\n",
    "\n",
    "\n"
   ]
  }
 ],
 "metadata": {
  "kernelspec": {
   "display_name": "Python 3",
   "language": "python",
   "name": "python3"
  },
  "language_info": {
   "codemirror_mode": {
    "name": "ipython",
    "version": 3
   },
   "file_extension": ".py",
   "mimetype": "text/x-python",
   "name": "python",
   "nbconvert_exporter": "python",
   "pygments_lexer": "ipython3",
   "version": "3.12.1"
  }
 },
 "nbformat": 4,
 "nbformat_minor": 2
}
