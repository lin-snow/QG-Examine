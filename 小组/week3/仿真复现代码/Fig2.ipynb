{
 "cells": [
  {
   "cell_type": "code",
   "execution_count": 12,
   "metadata": {},
   "outputs": [
    {
     "data": {
      "image/png": "[encoded data removed]",
      "text/plain": [
       "<Figure size 640x480 with 1 Axes>"
      ]
     },
     "metadata": {},
     "output_type": "display_data"
    }
   ],
   "source": [
    "import numpy as np\n",
    "import matplotlib.pyplot as plt\n",
    "\n",
    "L = 50 # 数轴上的区间长度\n",
    "num_agents = 500 * L # agent的数量\n",
    "\n",
    "\n",
    "opinions = np.linspace(0, L, num_agents, endpoint=True) # 智能体的初始opinions\n",
    "convergence_threshold = 1e-3  # 收敛阈值\n",
    "max_iterations = 10000 # 最大迭代次数\n",
    "threshold = 1 # opinions更新的阈值\n",
    "\n",
    "\n",
    "# 存储每个智能体每次迭代的意见\n",
    "opinions_history = []\n",
    "\n",
    "# 先定义一个函数，找出距离小于1的智能体\n",
    "def find_neighbours(agent, opinions):\n",
    "    return np.abs(opinions - agent) < 1\n",
    "\n",
    "# 再定义一个函数, 更新智能体的opinions\n",
    "def update_opinions(opinions, threshold):\n",
    "    new_opinions = np.copy(opinions) # 复制一份opinions\n",
    "    for i in range(len(opinions)): # 遍历每一个智能体\n",
    "        neighbours = find_neighbours(opinions[i], opinions) # 调用find_neighbours找出距离小于1的智能体\n",
    "        # 选出与当前智能体距离小于1的智能体的opinions差值在阈值内的智能体\n",
    "        mark = np.abs(opinions - opinions[i]) < threshold \n",
    "        # 更新opinions\n",
    "        new_opinions[i] = np.mean(opinions[mark]) # 更新opinions\n",
    "    return new_opinions # 返回更新后的opinions    \n",
    "\n",
    "\n",
    "\n",
    "# 运行仿真\n",
    "for _ in range(max_iterations):\n",
    "    new_opinions = update_opinions(opinions, threshold)  # 更新opinions\n",
    "    if np.all(np.abs(new_opinions - opinions) < convergence_threshold):  # 如果opinions收敛\n",
    "        break  # 跳出循环\n",
    "    opinions = new_opinions  # 更新opinions\n",
    "    opinions_history.append(opinions.copy())  # 记录当前时间步的意见值\n",
    "\n",
    "# 画图\n",
    "plt.figure()\n",
    "\n",
    "# 横坐标为L\n",
    "x = np.linspace(0, L, num_agents)\n",
    "# 纵坐标为opinions-L/2\n",
    "y = opinions - L/2\n",
    "\n",
    "plt.plot(x, y, 'b.', markersize=1)\n",
    "plt.axhline(y=0, color='k', linestyle='dashed')\n",
    "plt.axhline(y=L/2, color='k', linestyle='dashed')\n",
    "plt.xlabel('L')\n",
    "plt.ylabel('x - L/2')\n",
    "plt.title('Fig2')\n",
    "plt.show()\n",
    "\n",
    "\n",
    "\n",
    "\n",
    "\n",
    "\n"
   ]
  }
 ],
 "metadata": {
  "kernelspec": {
   "display_name": "Python 3",
   "language": "python",
   "name": "python3"
  },
  "language_info": {
   "codemirror_mode": {
    "name": "ipython",
    "version": 3
   },
   "file_extension": ".py",
   "mimetype": "text/x-python",
   "name": "python",
   "nbconvert_exporter": "python",
   "pygments_lexer": "ipython3",
   "version": "3.12.1"
  }
 },
 "nbformat": 4,
 "nbformat_minor": 2
}
